{
 "cells": [
  {
   "cell_type": "code",
   "execution_count": 1,
   "metadata": {},
   "outputs": [],
   "source": [
    "import pickle\n",
    "\n",
    "with open('filename.pickle','rb') as handle:\n",
    "    b = pickle.load(handle)"
   ]
  },
  {
   "cell_type": "code",
   "execution_count": 7,
   "metadata": {},
   "outputs": [
    {
     "data": {
      "text/plain": [
       "array([[3.04863289, 2.70979206, 3.13623789, ..., 3.03138588, 3.10139335,\n",
       "        2.79834601],\n",
       "       [3.63423179, 2.9096033 , 2.55869251, ..., 3.72525893, 3.03449486,\n",
       "        2.5127587 ],\n",
       "       [2.92618319, 2.37693295, 2.33165362, ..., 4.04869288, 4.31819583,\n",
       "        5.02527691],\n",
       "       ...,\n",
       "       [2.85472544, 2.29869535, 2.00522511, ..., 3.31865229, 3.40370798,\n",
       "        3.27741055],\n",
       "       [2.74028922, 2.71209165, 2.89889826, ..., 3.27072115, 3.22747497,\n",
       "        3.60759744],\n",
       "       [3.21722598, 2.94736576, 2.85766663, ..., 3.44529257, 3.14327289,\n",
       "        3.21734116]])"
      ]
     },
     "execution_count": 7,
     "metadata": {},
     "output_type": "execute_result"
    }
   ],
   "source": [
    "b['Secretary of Foreign Affairs']"
   ]
  }
 ],
 "metadata": {
  "kernelspec": {
   "display_name": ".venv",
   "language": "python",
   "name": "python3"
  },
  "language_info": {
   "codemirror_mode": {
    "name": "ipython",
    "version": 3
   },
   "file_extension": ".py",
   "mimetype": "text/x-python",
   "name": "python",
   "nbconvert_exporter": "python",
   "pygments_lexer": "ipython3",
   "version": "3.11.0"
  },
  "orig_nbformat": 4,
  "vscode": {
   "interpreter": {
    "hash": "5e38e41ca7a17806a76ea1ea209ab702513d143580c840b24d3afb3c72291034"
   }
  }
 },
 "nbformat": 4,
 "nbformat_minor": 2
}
